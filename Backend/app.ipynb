{
 "cells": [
  {
   "attachments": {},
   "cell_type": "markdown",
   "metadata": {},
   "source": [
    "Cette partie de code est pour l'installation de nos package au cas ou il ne serait pas existant"
   ]
  },
  {
   "cell_type": "code",
   "execution_count": null,
   "metadata": {},
   "outputs": [],
   "source": [
    "#%pip install flask\n",
    "#%pip install flask_mysqldb\n",
    "#%pip install mysql-connector\n",
    "#%pip install flask_mail\n",
    "#%pip install flask_cors\n",
    "#%pip install Flask Flask-Mail"
   ]
  },
  {
   "attachments": {},
   "cell_type": "markdown",
   "metadata": {},
   "source": [
    "Cette partie est reserver a l'importation de nos different package\n"
   ]
  },
  {
   "cell_type": "code",
   "execution_count": null,
   "metadata": {},
   "outputs": [],
   "source": [
    "from flask import Flask,request\n",
    "from flask import Flask, render_template, request,jsonify\n",
    "from flask_mysqldb import MySQL\n",
    "import mysql.connector as ms\n",
    "import json\n",
    "from flask_mail import Mail, Message\n",
    "from flask_cors import CORS"
   ]
  },
  {
   "attachments": {},
   "cell_type": "markdown",
   "metadata": {},
   "source": [
    "Notre connexion avec notre base de donnée partager avec le site"
   ]
  },
  {
   "cell_type": "code",
   "execution_count": null,
   "metadata": {},
   "outputs": [],
   "source": [
    "app = Flask(__name__)\n",
    "app.config['MAIL_SERVER'] = 'smtp.gmail.com'  # Serveur SMTP de Gmail\n",
    "app.config['MAIL_PORT'] = 465  # Port du serveur SMTP de Gmail\n",
    "app.config['MAIL_USE_SSL'] = False  # Utiliser TLS pour sécuriser la connexion\n",
    "app.config['MAIL_USERNAME'] = 'jeanphilippesara225@gmail.com'\n",
    "app.config['MAIL_PASSWORD'] = 'ginkbtulmiqctmfi'\n",
    "mail = Mail(app)\n",
    "database = ms.connect(host='localhost', user='root', passwd='root',port=\"8889\", database='LadThomasDB')\n",
    "\n"
   ]
  },
  {
   "cell_type": "code",
   "execution_count": null,
   "metadata": {},
   "outputs": [],
   "source": [
    "def send_newsletter():\n",
    "    name = request.form['object']\n",
    "    age = request.form['age']\n",
    "    subject = request.form['object']\n",
    "    message = request.form['Message']\n",
    "    sender = \"jeanphilippesara225@gmail.com\"\n",
    "    recipients = \"jeanphilippesara225@gmail.com\"\n",
    "    print(subject, message, sender, recipients)\n",
    "    send_request = Message(f'{subject}', sender = f'{sender}', recipients = recipients)\n",
    "    send_request.body = f\"{message}\"\n",
    "    mail.send(send_request)\n",
    "    print(\"Message envoyé aux abonnés de la newsletter\")"
   ]
  },
  {
   "cell_type": "code",
   "execution_count": null,
   "metadata": {},
   "outputs": [],
   "source": [
    "def send_mail(name,email,message):\n",
    "    msg = Message('Nouveau message de votre site web',\n",
    "                  sender=app.config['MAIL_USERNAME'],\n",
    "                  recipients=['jeanphilippesara225@gmail.com'])  # Adresse e-mail du destinataire\n",
    "    msg.body = f\"Nom: {name}\\nEmail: {email}\\nMessage: {message}\"\n",
    "\n",
    "    mail.send(msg)\n",
    "\n",
    "    print('E-mail envoyé avec succès !')\n",
    "\n",
    "\n"
   ]
  },
  {
   "attachments": {},
   "cell_type": "markdown",
   "metadata": {},
   "source": [
    "A ce niveau nous avons nos"
   ]
  },
  {
   "cell_type": "code",
   "execution_count": null,
   "metadata": {},
   "outputs": [],
   "source": [
    "@app.route('/form')\n",
    "def form():\n",
    "    cursor=database.cursor(buffered=True)\n",
    "    query=\"select * from T_Customer\"\n",
    "    cursor.execute(query)\n",
    "    row_headers=[x[0] for x in cursor.description]\n",
    "    database.commit()\n",
    "    fname = cursor.fetchall()\n",
    "    return render_template('form.html',data=fname)\n",
    "\n",
    "\n",
    "@app.route('/login', methods=['POST', 'GET'])\n",
    "def login():\n",
    "    if request.method == 'GET':\n",
    "        return \"Login via the login Form\"\n",
    "    if request.method == 'POST':\n",
    "        print(json.dumps(request.form))\n",
    "        name = request.form['object']\n",
    "        email = \"jeanphilippesara225@gmail.com\"\n",
    "        message = request.form['Message']\n",
    "        print(name,email,message)\n",
    "        send_mail(name,email,message)\n",
    "        cursor=database.cursor(buffered=True)\n",
    "        query=\"select * from T_Customer\"\n",
    "        cursor.execute(query)\n",
    "        row_headers=[x[0] for x in cursor.description]\n",
    "        database.commit()\n",
    "        fname = cursor.fetchall()\n",
    "        return render_template('form.html',data=fname)\n",
    "\n",
    "\n",
    "app.run(host='0.0.0.0', port=5002)"
   ]
  },
  {
   "attachments": {},
   "cell_type": "markdown",
   "metadata": {},
   "source": [
    "La function d'envoi de mail"
   ]
  }
 ],
 "metadata": {
  "kernelspec": {
   "display_name": ".venv",
   "language": "python",
   "name": "python3"
  },
  "language_info": {
   "codemirror_mode": {
    "name": "ipython",
    "version": 3
   },
   "file_extension": ".py",
   "mimetype": "text/x-python",
   "name": "python",
   "nbconvert_exporter": "python",
   "pygments_lexer": "ipython3",
   "version": "3.11.4"
  },
  "orig_nbformat": 4
 },
 "nbformat": 4,
 "nbformat_minor": 2
}
